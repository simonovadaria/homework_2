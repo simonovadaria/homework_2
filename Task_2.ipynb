{
 "cells": [
  {
   "cell_type": "markdown",
   "metadata": {},
   "source": [
    "Задание 1\n",
    "Дана переменная, в которой хранится слово из латинских букв. Напишите код, который выводит на экран:\n",
    "среднюю букву, если число букв в слове четное;\n",
    "две средних буквы, если число букв нечетное.\n",
    "\n",
    "(ошибка в формулировке задания? делала, чтобы получалось как в примере)"
   ]
  },
  {
   "cell_type": "code",
   "execution_count": 30,
   "metadata": {},
   "outputs": [
    {
     "name": "stdout",
     "output_type": "stream",
     "text": [
      "r\n"
     ]
    }
   ],
   "source": [
    "word = 'Daria'\n",
    "\n",
    "if len(word) % 2 == 0:\n",
    "    print(word[int(len(word) / 2) - 1:int(len(word) / 2) + 1])\n",
    "else:\n",
    "    print(word[int(len(word) / 2)])\n"
   ]
  },
  {
   "cell_type": "markdown",
   "metadata": {},
   "source": [
    "Задание 2\n",
    "Напишите программу, которая последовательно запрашивает у пользователя числа (по одному за раз) и после первого нуля выводит сумму всех ранее введенных чисел."
   ]
  },
  {
   "cell_type": "code",
   "execution_count": 35,
   "metadata": {},
   "outputs": [
    {
     "name": "stdout",
     "output_type": "stream",
     "text": [
      "Введите число: 1\n",
      "Введите число: 2\n",
      "Введите число: 3\n",
      "Введите число: 4\n",
      "Введите число: 0\n",
      "10\n"
     ]
    }
   ],
   "source": [
    "list_numbers = []\n",
    "\n",
    "while 0 not in list_numbers:\n",
    "    number = int(input('Введите число: '))\n",
    "    list_numbers.append(number)\n",
    "else:\n",
    "    print(sum(list_numbers))"
   ]
  },
  {
   "cell_type": "markdown",
   "metadata": {},
   "source": [
    "Задание 3\n",
    "Мы делаем MVP dating-сервиса, и у нас есть список парней и девушек.\n",
    "Выдвигаем гипотезу: лучшие рекомендации мы получим, если просто отсортируем имена по алфавиту и познакомим людей с одинаковыми индексами после сортировки! Но мы не будем никого знакомить, если кто-то может остаться без пары:"
   ]
  },
  {
   "cell_type": "code",
   "execution_count": 11,
   "metadata": {},
   "outputs": [
    {
     "name": "stdout",
     "output_type": "stream",
     "text": [
      "[('Alex', 'Emma'), ('Arthur', 'Kate'), ('John', 'Kira'), ('Peter', 'Liza'), ('Richard', 'Trisha')]\n"
     ]
    }
   ],
   "source": [
    "boys = ['Peter', 'Alex', 'John', 'Arthur', 'Richard']\n",
    "girls = ['Kate', 'Liza', 'Kira', 'Emma', 'Trisha']\n",
    "\n",
    "if len(boys) == len(girls):\n",
    "    couples = list(zip(sorted(boys), sorted(girls)))\n",
    "    print(couples)\n",
    "else:\n",
    "    print('Внимание, кто-то может остаться без пары!')"
   ]
  },
  {
   "cell_type": "markdown",
   "metadata": {},
   "source": [
    "Задание 4\n",
    "У нас есть список, содержащий информацию о среднедневной температуре в Фаренгейтах за произвольный период по странам (структура данных в примере). Необходимо написать код, который рассчитает среднюю температуру за период в Цельсиях(!) для каждой страны."
   ]
  },
  {
   "cell_type": "code",
   "execution_count": 17,
   "metadata": {},
   "outputs": [
    {
     "name": "stdout",
     "output_type": "stream",
     "text": [
      "Thailand -  23.857142857142854\n",
      "Germany -  13.799999999999997\n",
      "Russia -  3.7142857142857166\n",
      "Poland -  11.999999999999996\n"
     ]
    }
   ],
   "source": [
    "countries_temperature = [\n",
    "['Thailand', [75.2, 77, 78.8, 73.4, 68, 75.2, 77]],\n",
    "['Germany', [57.2, 55.4, 59, 59, 53.6]],\n",
    "['Russia', [35.6, 37.4, 39.2, 41, 42.8, 39.2, 35.6]],\n",
    "['Poland', [50, 50, 53.6, 57.2, 55.4, 55.4]]\n",
    "]\n",
    "\n",
    "for country in countries_temperature:\n",
    "    print(country[0], '- ', (sum(country[1]) / len(country[1]) - 32) / 1.8)\n",
    "\n"
   ]
  },
  {
   "cell_type": "markdown",
   "metadata": {},
   "source": [
    "Задание 5\n",
    "Дан поток логов по количеству просмотренных страниц для каждого пользователя. Вам необходимо написать алгоритм, который считает среднее значение просмотров на пользователя. Т. е. надо посчитать отношение суммы всех просмотров к количеству уникальных пользователей."
   ]
  },
  {
   "cell_type": "code",
   "execution_count": 83,
   "metadata": {},
   "outputs": [
    {
     "name": "stdout",
     "output_type": "stream",
     "text": [
      "Среднее значение просмотров:  23.25\n"
     ]
    }
   ],
   "source": [
    "stream = [\n",
    "'2018-01-01,user1,3',\n",
    "'2018-01-07,user1,4',\n",
    "'2018-03-29,user1,1',\n",
    "'2018-04-04,user1,13',\n",
    "'2018-01-05,user2,7',\n",
    "'2018-06-14,user3,4',\n",
    "'2018-07-02,user3,10',\n",
    "'2018-03-21,user4,19',\n",
    "'2018-03-22,user4,4',\n",
    "'2018-04-22,user4,8',\n",
    "'2018-05-03,user4,9',\n",
    "'2018-05-11,user4,11',\n",
    "]\n",
    "\n",
    "\n",
    "res_1 = []\n",
    "for el in stream:\n",
    "    if ',' not in el[-2:]:\n",
    "        res_1.append(int(el[-2:]))\n",
    "    else:\n",
    "        res_1.append(int(el[-1]))\n",
    "\n",
    "res_2 = []\n",
    "for el in stream:\n",
    "    user = el[11:16]\n",
    "    res_2.append(user)\n",
    "\n",
    "res_3 = []\n",
    "for user in res_2:\n",
    "    if res_2.count(user) >= 1 and user not in res_3:\n",
    "        res_3.append(user)\n",
    "\n",
    "print('Среднее значение просмотров: ', sum(res_1) / len(res_3))\n"
   ]
  },
  {
   "cell_type": "code",
   "execution_count": 121,
   "metadata": {},
   "outputs": [
    {
     "name": "stdout",
     "output_type": "stream",
     "text": [
      "Среднее значение просмотров:  145.33333333333334\n"
     ]
    }
   ],
   "source": [
    "stream = [\n",
    "'2018-01-01,user100,150',\n",
    "'2018-01-07,user99,205',\n",
    "'2018-03-29,user1001,81'\n",
    "]\n",
    "\n",
    "res_1 = []\n",
    "for el in stream:\n",
    "    if ',' not in el[-3:]:\n",
    "        res_1.append(int(el[-3:]))\n",
    "    else:\n",
    "        res_1.append(int(el[-2:]))\n",
    "\n",
    "res_2 = []\n",
    "for el in stream:\n",
    "    if ',' not in el[11:20]:\n",
    "        res_2.append(el[11:20])\n",
    "    else:\n",
    "        res_2.append(el[11:19])\n",
    "\n",
    "res_3 = []\n",
    "for user in res_2:\n",
    "    if res_2.count(user) >= 1 and user not in res_3:\n",
    "        res_3.append(user)\n",
    "\n",
    "print('Среднее значение просмотров: ', sum(res_1) / len(res_3))"
   ]
  },
  {
   "cell_type": "markdown",
   "metadata": {},
   "source": [
    "Задание 6 \n",
    "Необходимо у пользователя запрашивать набор чисел разделенных пробелом. В результате должны выводиться числа, которые повторяются в вводе более одного раза."
   ]
  },
  {
   "cell_type": "code",
   "execution_count": 144,
   "metadata": {},
   "outputs": [
    {
     "name": "stdout",
     "output_type": "stream",
     "text": [
      "Введите ряд чисел, разделенных пробелом: 1 1 1 1 2 2 2 2 3 4 5 6 7 7\n",
      "['1', '2', '7']\n"
     ]
    }
   ],
   "source": [
    "res = []\n",
    "user_string = input('Введите ряд чисел, разделенных пробелом: ')\n",
    "\n",
    "user_list = user_string.split(' ')\n",
    "\n",
    "for number in user_list:\n",
    "    if user_list.count(number) > 1 and number not in res:\n",
    "        res.append(number)\n",
    "print(res)"
   ]
  }
 ],
 "metadata": {
  "kernelspec": {
   "display_name": "Python 3",
   "language": "python",
   "name": "python3"
  },
  "language_info": {
   "codemirror_mode": {
    "name": "ipython",
    "version": 3
   },
   "file_extension": ".py",
   "mimetype": "text/x-python",
   "name": "python",
   "nbconvert_exporter": "python",
   "pygments_lexer": "ipython3",
   "version": "3.8.3"
  }
 },
 "nbformat": 4,
 "nbformat_minor": 4
}
